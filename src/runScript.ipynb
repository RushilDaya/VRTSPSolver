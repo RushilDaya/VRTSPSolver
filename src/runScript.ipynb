{
 "cells": [
  {
   "cell_type": "code",
   "execution_count": null,
   "metadata": {
    "scrolled": true
   },
   "outputs": [],
   "source": [
    "import numpy as np\n",
    "import matplotlib.pyplot as plt\n",
    "import time, glob, yaml, pickle\n",
    "import plotRoute, inputData\n",
    "from PIL import Image\n",
    "from tsp_runGA import tsp_runGA\n",
    "import tsp_crossoverMethods, tsp_mutationMethods, tsp_selectionMethods, tsp_reinsMethods, tsp_improveMethods, tsp_stopCriteria\n",
    "\n",
    "\n",
    "pathFile = '../resources/datasets/'\n",
    "fileName = 'rondrit051.tsp'\n",
    "\n",
    "##############################################################################################################################\n",
    "##############################################################################################################################\n",
    "REPRESENTATION = 'REP_ADJACENCY' #{'REP_ADJACENCY', 'REP_PATH'}\n",
    "NIND = 100 #{1..∞}\n",
    "MAXGEN = 500 #{1..∞}\n",
    "OFFSPRING_FACTOR = 1.25 #{1.0..∞}\n",
    "ELITE_PERCENTAGE = 0.2 #{0.0..1.0}\n",
    "STOP_PERCENTAGE = 0.0 #{0.0..1.0}\n",
    "PR_CROSS = 0.8 #{0.0..1.0}\n",
    "PR_MUT = 0.3 #{0.0..1.0}\n",
    "CROSSOVER = 'tsp_greedyHeuristicCrossover' #Adjacency: {'tsp_xaltEdges','tsp_greedyHeuristicCrossover','tsp_probabilisticHeuristicCrossover'} | Path: {'tsp_sequentialConstructiveCrossover','tsp_orderedCrossover'}\n",
    "MUTATION = 'tsp_insertion' #{'tsp_inversion','tsp_swap','tsp_nSwap','tsp_insertion','tsp_scramble','tsp_3scramble'}\n",
    "SELECTION = 'tsp_deterministic_tournament' #{'tsp_sus','tsp_fps','tsp_deterministic_tournament','tsp_nondeterministic_tournament','tsp_nondeterministic_tournament_battle'}\n",
    "REINSERTION = 'tsp_roundRobin' #{'tsp_genitor','tsp_randomReplacement','tsp_roundRobin','tsp_simpleMuCommaAlpha','tsp_simpleMuPlusAlpha'}\n",
    "IMPROVE_POP = 'tsp_none' #{'tsp_none','tsp_localLoops','tsp_2opt','tsp_3opt'}\n",
    "STOPCRITERIA = 'stdDev' #{'runingMean','bestWorst','stdDev','phi'}\n",
    "RANKBASE = 0 #{0:False, 1:True}\n",
    "\n",
    "x,y = inputData.inputData(pathFile+fileName)\n",
    "NVAR = len(x)\n",
    "##############################################################################################################################\n",
    "##############################################################################################################################\n",
    "# MAPPING\n",
    "mutation_mappings = tsp_mutationMethods.mapping()\n",
    "crossover_mappings = tsp_crossoverMethods.mapping(REPRESENTATION)\n",
    "selection_mappings = tsp_selectionMethods.mapping(REPRESENTATION)\n",
    "reinsertion_mappings = tsp_reinsMethods.mapping()\n",
    "improvement_mappings = tsp_improveMethods.mapping()\n",
    "stopCriteria_mapping = tsp_stopCriteria.mapping()\n",
    "\n",
    "CROSSOVER = crossover_mappings[CROSSOVER]\n",
    "MUTATION = mutation_mappings[MUTATION]\n",
    "SELECTION = selection_mappings[SELECTION]\n",
    "REINSERTION = reinsertion_mappings[REINSERTION]\n",
    "IMPROVE_POP = improvement_mappings[IMPROVE_POP]\n",
    "\n",
    "argsTSP = [REPRESENTATION, x, y, NIND, OFFSPRING_FACTOR, MAXGEN, NVAR, ELITE_PERCENTAGE, STOP_PERCENTAGE, PR_CROSS, PR_MUT, CROSSOVER, MUTATION, SELECTION,STOPCRITERIA,REINSERTION ,IMPROVE_POP, RANKBASE]\n",
    "################################################################################################################################################################################################\n",
    "##MAIN SCRIPT\n",
    "start_time = time.time()\n",
    "res = tsp_runGA(REPRESENTATION,x, y, NIND, OFFSPRING_FACTOR, MAXGEN, NVAR, ELITE_PERCENTAGE, STOP_PERCENTAGE, PR_CROSS, PR_MUT, CROSSOVER, MUTATION, SELECTION,STOPCRITERIA,REINSERTION ,IMPROVE_POP, RANKBASE=RANKBASE)\n",
    "print(time.strftime('%H:%M:%S', time.gmtime((time.time() - start_time))))\n",
    "print('DONE!')"
   ]
  },
  {
   "cell_type": "code",
   "execution_count": null,
   "metadata": {},
   "outputs": [],
   "source": [
    "##PRINT RESULT\n",
    "plotRoute.plotRoute(x,y, res['FINAL_CHROMOSOME'][res['FINAL_FITNESS'].argmin()],REPRESENTATION)\n",
    "f, ax = plt.subplots(1)\n",
    "finalResults = res['RESULTS']\n",
    "ax.plot(finalResults['BEST'], label='BEST')\n",
    "ax.plot(finalResults['MEAN'], label='MEAN')\n",
    "ax.plot(finalResults['WORST'], label='WORST')\n",
    "plt.legend()\n",
    "plt.show()"
   ]
  }
 ],
 "metadata": {
  "kernelspec": {
   "display_name": "Python 3",
   "language": "python",
   "name": "python3"
  },
  "language_info": {
   "codemirror_mode": {
    "name": "ipython",
    "version": 3
   },
   "file_extension": ".py",
   "mimetype": "text/x-python",
   "name": "python",
   "nbconvert_exporter": "python",
   "pygments_lexer": "ipython3",
   "version": "3.6.6"
  }
 },
 "nbformat": 4,
 "nbformat_minor": 2
}
